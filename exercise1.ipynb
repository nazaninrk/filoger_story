{
 "cells": [
  {
   "cell_type": "code",
   "execution_count": 49,
   "id": "1f8ae584",
   "metadata": {
    "scrolled": false
   },
   "outputs": [
    {
     "data": {
      "text/html": [
       "<div>\n",
       "<style scoped>\n",
       "    .dataframe tbody tr th:only-of-type {\n",
       "        vertical-align: middle;\n",
       "    }\n",
       "\n",
       "    .dataframe tbody tr th {\n",
       "        vertical-align: top;\n",
       "    }\n",
       "\n",
       "    .dataframe thead th {\n",
       "        text-align: right;\n",
       "    }\n",
       "</style>\n",
       "<table border=\"1\" class=\"dataframe\">\n",
       "  <thead>\n",
       "    <tr style=\"text-align: right;\">\n",
       "      <th></th>\n",
       "      <th>id</th>\n",
       "      <th>year</th>\n",
       "      <th>month</th>\n",
       "      <th>day</th>\n",
       "      <th>dep_time</th>\n",
       "      <th>sched_dep_time</th>\n",
       "      <th>dep_delay</th>\n",
       "      <th>arr_time</th>\n",
       "      <th>sched_arr_time</th>\n",
       "      <th>arr_delay</th>\n",
       "      <th>...</th>\n",
       "      <th>flight</th>\n",
       "      <th>tailnum</th>\n",
       "      <th>origin</th>\n",
       "      <th>dest</th>\n",
       "      <th>air_time</th>\n",
       "      <th>distance</th>\n",
       "      <th>hour</th>\n",
       "      <th>minute</th>\n",
       "      <th>time_hour</th>\n",
       "      <th>name</th>\n",
       "    </tr>\n",
       "  </thead>\n",
       "  <tbody>\n",
       "    <tr>\n",
       "      <th>0</th>\n",
       "      <td>0</td>\n",
       "      <td>2013</td>\n",
       "      <td>1</td>\n",
       "      <td>1</td>\n",
       "      <td>517.0</td>\n",
       "      <td>515</td>\n",
       "      <td>2.0</td>\n",
       "      <td>830.0</td>\n",
       "      <td>819</td>\n",
       "      <td>11.0</td>\n",
       "      <td>...</td>\n",
       "      <td>1545</td>\n",
       "      <td>N14228</td>\n",
       "      <td>EWR</td>\n",
       "      <td>IAH</td>\n",
       "      <td>227.0</td>\n",
       "      <td>1400</td>\n",
       "      <td>5</td>\n",
       "      <td>15</td>\n",
       "      <td>2013-01-01 05:00:00</td>\n",
       "      <td>United Air Lines Inc.</td>\n",
       "    </tr>\n",
       "    <tr>\n",
       "      <th>1</th>\n",
       "      <td>1</td>\n",
       "      <td>2013</td>\n",
       "      <td>1</td>\n",
       "      <td>1</td>\n",
       "      <td>533.0</td>\n",
       "      <td>529</td>\n",
       "      <td>4.0</td>\n",
       "      <td>850.0</td>\n",
       "      <td>830</td>\n",
       "      <td>20.0</td>\n",
       "      <td>...</td>\n",
       "      <td>1714</td>\n",
       "      <td>N24211</td>\n",
       "      <td>LGA</td>\n",
       "      <td>IAH</td>\n",
       "      <td>227.0</td>\n",
       "      <td>1416</td>\n",
       "      <td>5</td>\n",
       "      <td>29</td>\n",
       "      <td>2013-01-01 05:00:00</td>\n",
       "      <td>United Air Lines Inc.</td>\n",
       "    </tr>\n",
       "    <tr>\n",
       "      <th>2</th>\n",
       "      <td>2</td>\n",
       "      <td>2013</td>\n",
       "      <td>1</td>\n",
       "      <td>1</td>\n",
       "      <td>542.0</td>\n",
       "      <td>540</td>\n",
       "      <td>2.0</td>\n",
       "      <td>923.0</td>\n",
       "      <td>850</td>\n",
       "      <td>33.0</td>\n",
       "      <td>...</td>\n",
       "      <td>1141</td>\n",
       "      <td>N619AA</td>\n",
       "      <td>JFK</td>\n",
       "      <td>MIA</td>\n",
       "      <td>160.0</td>\n",
       "      <td>1089</td>\n",
       "      <td>5</td>\n",
       "      <td>40</td>\n",
       "      <td>2013-01-01 05:00:00</td>\n",
       "      <td>American Airlines Inc.</td>\n",
       "    </tr>\n",
       "    <tr>\n",
       "      <th>3</th>\n",
       "      <td>3</td>\n",
       "      <td>2013</td>\n",
       "      <td>1</td>\n",
       "      <td>1</td>\n",
       "      <td>544.0</td>\n",
       "      <td>545</td>\n",
       "      <td>-1.0</td>\n",
       "      <td>1004.0</td>\n",
       "      <td>1022</td>\n",
       "      <td>-18.0</td>\n",
       "      <td>...</td>\n",
       "      <td>725</td>\n",
       "      <td>N804JB</td>\n",
       "      <td>JFK</td>\n",
       "      <td>BQN</td>\n",
       "      <td>183.0</td>\n",
       "      <td>1576</td>\n",
       "      <td>5</td>\n",
       "      <td>45</td>\n",
       "      <td>2013-01-01 05:00:00</td>\n",
       "      <td>JetBlue Airways</td>\n",
       "    </tr>\n",
       "    <tr>\n",
       "      <th>4</th>\n",
       "      <td>4</td>\n",
       "      <td>2013</td>\n",
       "      <td>1</td>\n",
       "      <td>1</td>\n",
       "      <td>554.0</td>\n",
       "      <td>600</td>\n",
       "      <td>-6.0</td>\n",
       "      <td>812.0</td>\n",
       "      <td>837</td>\n",
       "      <td>-25.0</td>\n",
       "      <td>...</td>\n",
       "      <td>461</td>\n",
       "      <td>N668DN</td>\n",
       "      <td>LGA</td>\n",
       "      <td>ATL</td>\n",
       "      <td>116.0</td>\n",
       "      <td>762</td>\n",
       "      <td>6</td>\n",
       "      <td>0</td>\n",
       "      <td>2013-01-01 06:00:00</td>\n",
       "      <td>Delta Air Lines Inc.</td>\n",
       "    </tr>\n",
       "  </tbody>\n",
       "</table>\n",
       "<p>5 rows × 21 columns</p>\n",
       "</div>"
      ],
      "text/plain": [
       "   id  year  month  day  dep_time  sched_dep_time  dep_delay  arr_time  \\\n",
       "0   0  2013      1    1     517.0             515        2.0     830.0   \n",
       "1   1  2013      1    1     533.0             529        4.0     850.0   \n",
       "2   2  2013      1    1     542.0             540        2.0     923.0   \n",
       "3   3  2013      1    1     544.0             545       -1.0    1004.0   \n",
       "4   4  2013      1    1     554.0             600       -6.0     812.0   \n",
       "\n",
       "   sched_arr_time  arr_delay  ... flight  tailnum origin dest air_time  \\\n",
       "0             819       11.0  ...   1545   N14228    EWR  IAH    227.0   \n",
       "1             830       20.0  ...   1714   N24211    LGA  IAH    227.0   \n",
       "2             850       33.0  ...   1141   N619AA    JFK  MIA    160.0   \n",
       "3            1022      -18.0  ...    725   N804JB    JFK  BQN    183.0   \n",
       "4             837      -25.0  ...    461   N668DN    LGA  ATL    116.0   \n",
       "\n",
       "   distance  hour  minute            time_hour                    name  \n",
       "0      1400     5      15  2013-01-01 05:00:00   United Air Lines Inc.  \n",
       "1      1416     5      29  2013-01-01 05:00:00   United Air Lines Inc.  \n",
       "2      1089     5      40  2013-01-01 05:00:00  American Airlines Inc.  \n",
       "3      1576     5      45  2013-01-01 05:00:00         JetBlue Airways  \n",
       "4       762     6       0  2013-01-01 06:00:00    Delta Air Lines Inc.  \n",
       "\n",
       "[5 rows x 21 columns]"
      ]
     },
     "execution_count": 49,
     "metadata": {},
     "output_type": "execute_result"
    }
   ],
   "source": [
    "import pandas as pd\n",
    "import numpy as np\n",
    "from scipy import stats\n",
    "import matplotlib.pyplot as plt\n",
    "\n",
    "flidf = pd.read_csv('flights.csv')\n",
    "\n",
    "flidf.head()"
   ]
  },
  {
   "cell_type": "code",
   "execution_count": 40,
   "id": "7f2ab90f",
   "metadata": {},
   "outputs": [
    {
     "name": "stdout",
     "output_type": "stream",
     "text": [
      "<class 'pandas.core.frame.DataFrame'>\n",
      "RangeIndex: 336776 entries, 0 to 336775\n",
      "Data columns (total 21 columns):\n",
      " #   Column          Non-Null Count   Dtype  \n",
      "---  ------          --------------   -----  \n",
      " 0   id              336776 non-null  int64  \n",
      " 1   year            336776 non-null  int64  \n",
      " 2   month           336776 non-null  int64  \n",
      " 3   day             336776 non-null  int64  \n",
      " 4   dep_time        328521 non-null  float64\n",
      " 5   sched_dep_time  336776 non-null  int64  \n",
      " 6   dep_delay       328521 non-null  float64\n",
      " 7   arr_time        328063 non-null  float64\n",
      " 8   sched_arr_time  336776 non-null  int64  \n",
      " 9   arr_delay       327346 non-null  float64\n",
      " 10  carrier         336776 non-null  object \n",
      " 11  flight          336776 non-null  int64  \n",
      " 12  tailnum         334264 non-null  object \n",
      " 13  origin          336776 non-null  object \n",
      " 14  dest            336776 non-null  object \n",
      " 15  air_time        327346 non-null  float64\n",
      " 16  distance        336776 non-null  int64  \n",
      " 17  hour            336776 non-null  int64  \n",
      " 18  minute          336776 non-null  int64  \n",
      " 19  time_hour       336776 non-null  object \n",
      " 20  name            336776 non-null  object \n",
      "dtypes: float64(5), int64(10), object(6)\n",
      "memory usage: 54.0+ MB\n",
      "None\n"
     ]
    }
   ],
   "source": [
    "print(flights_df.info())"
   ]
  },
  {
   "cell_type": "markdown",
   "id": "34e12e6c",
   "metadata": {},
   "source": [
    "This information pertains to a DataFrame in Python containing data on airline flights in 2013. The DataFrame consists of 21 columns with various data types, and we will explore each column and the results obtained:\n",
    "\n",
    "1. **id:** unique identifier for each flight, with 336,776 non-null values.\n",
    "2. **year:** year of the flight, with 336,776 non-null values and equal to 2013 in this case.\n",
    "3. **month:** month of the flight, with 336,776 non-null values.\n",
    "4. **day:** day of the flight, with 336,776 non-null values.\n",
    "5. **dep_time:** actual departure time of the plane, with 328,521 non-null values.\n",
    "6. **sched_dep_time:** scheduled departure time of the plane, with 336,776 non-null values.\n",
    "7. **dep_delay:** delay in departure time of the plane, with 328,521 non-null values.\n",
    "8. **arr_time:** actual arrival time of the plane, with 328,063 non-null values.\n",
    "9. **sched_arr_time:** scheduled arrival time of the plane, with 336,776 non-null values.\n",
    "10. **arr_delay:** delay in arrival time of the plane, with 327,346 non-null values.\n",
    "11. **carrier:** unique identifier for the airline, with 336,776 non-null values.\n",
    "12. **flight:** flight number, with 336,776 non-null values.\n",
    "13. **tailnum:** unique identifier for the plane, with 334,264 non-null values.\n",
    "14. **origin:** origin airport, with 336,776 non-null values.\n",
    "15. **dest:** destination airport, with 336,776 non-null values.\n",
    "16. **air_time:** flight time, with 327,346 non-null values.\n",
    "17. **distance:** flight distance, with 336,776 non-null values.\n",
    "18. **hour:** hour of the flight, with 336,776 non-null values.\n",
    "19. **minute:** minute of the flight, with 336,776 non-null values.\n",
    "20. **time_hour:** date and time of the flight as a string, with 336,776 non-null values.\n",
    "21. **name:** name of the airline, with 336,776 non-null values.\n",
    "\n",
    "Based on the information obtained, we can calculate the average delay between departure and arrival times, the average flight distance, the distribution of scheduled departure and arrival times, or the average flight time using this DataFrame. Additionally, from the columns in the DataFrame, such as dep_delay and arr_delay, we can analyze the impact of departure and arrival delays on overall flight delays. Overall, this information helps us to perform various analyses using the available data and arrive at useful results."
   ]
  },
  {
   "cell_type": "code",
   "execution_count": 41,
   "id": "bd935556",
   "metadata": {},
   "outputs": [
    {
     "name": "stdout",
     "output_type": "stream",
     "text": [
      "id                  int64\n",
      "year                int64\n",
      "month               int64\n",
      "day                 int64\n",
      "dep_time          float64\n",
      "sched_dep_time      int64\n",
      "dep_delay         float64\n",
      "arr_time          float64\n",
      "sched_arr_time      int64\n",
      "arr_delay         float64\n",
      "carrier            object\n",
      "flight              int64\n",
      "tailnum            object\n",
      "origin             object\n",
      "dest               object\n",
      "air_time          float64\n",
      "distance            int64\n",
      "hour                int64\n",
      "minute              int64\n",
      "time_hour          object\n",
      "name               object\n",
      "dtype: object\n",
      "**************************************************\n",
      "id                   0\n",
      "year                 0\n",
      "month                0\n",
      "day                  0\n",
      "dep_time          8255\n",
      "sched_dep_time       0\n",
      "dep_delay         8255\n",
      "arr_time          8713\n",
      "sched_arr_time       0\n",
      "arr_delay         9430\n",
      "carrier              0\n",
      "flight               0\n",
      "tailnum           2512\n",
      "origin               0\n",
      "dest                 0\n",
      "air_time          9430\n",
      "distance             0\n",
      "hour                 0\n",
      "minute               0\n",
      "time_hour            0\n",
      "name                 0\n",
      "dtype: int64\n"
     ]
    }
   ],
   "source": [
    "print(flidf.dtypes)\n",
    "print(\"*\"*50)\n",
    "print(flidf.isnull().sum())"
   ]
  },
  {
   "cell_type": "markdown",
   "id": "703b2440",
   "metadata": {},
   "source": [
    "The first block of text appears to be a data description of a DataFrame, which contains information related to airline flights in 2013. The DataFrame contains 21 columns, with various data types such as int64, float64 and object.\n",
    "\n",
    "The second block of text appears to be the result of a data quality check, which shows the number of missing values in each column of the DataFrame. For example, the column \"dep_time\" has 8255 missing values, while the column \"arr_delay\" has 9430 missing values. The column \"tailnum\" has 2512 missing values. This information is important because missing data can affect the accuracy of analyses performed on the DataFrame. It may be necessary to either impute or remove the missing data before performing any analyses."
   ]
  },
  {
   "cell_type": "code",
   "execution_count": 42,
   "id": "757ea6ff",
   "metadata": {},
   "outputs": [
    {
     "name": "stdout",
     "output_type": "stream",
     "text": [
      "                  id      year          month            day       dep_time  \\\n",
      "count  336776.000000  336776.0  336776.000000  336776.000000  328521.000000   \n",
      "mean   168387.500000    2013.0       6.548510      15.710787    1349.109947   \n",
      "std     97219.001466       0.0       3.414457       8.768607     488.281791   \n",
      "min         0.000000    2013.0       1.000000       1.000000       1.000000   \n",
      "25%     84193.750000    2013.0       4.000000       8.000000     907.000000   \n",
      "50%    168387.500000    2013.0       7.000000      16.000000    1401.000000   \n",
      "75%    252581.250000    2013.0      10.000000      23.000000    1744.000000   \n",
      "max    336775.000000    2013.0      12.000000      31.000000    2400.000000   \n",
      "\n",
      "       sched_dep_time      dep_delay       arr_time  sched_arr_time  \\\n",
      "count   336776.000000  328521.000000  328063.000000   336776.000000   \n",
      "mean      1344.254840      12.639070    1502.054999     1536.380220   \n",
      "std        467.335756      40.210061     533.264132      497.457142   \n",
      "min        106.000000     -43.000000       1.000000        1.000000   \n",
      "25%        906.000000      -5.000000    1104.000000     1124.000000   \n",
      "50%       1359.000000      -2.000000    1535.000000     1556.000000   \n",
      "75%       1729.000000      11.000000    1940.000000     1945.000000   \n",
      "max       2359.000000    1301.000000    2400.000000     2359.000000   \n",
      "\n",
      "           arr_delay         flight       air_time       distance  \\\n",
      "count  327346.000000  336776.000000  327346.000000  336776.000000   \n",
      "mean        6.895377    1971.923620     150.686460    1039.912604   \n",
      "std        44.633292    1632.471938      93.688305     733.233033   \n",
      "min       -86.000000       1.000000      20.000000      17.000000   \n",
      "25%       -17.000000     553.000000      82.000000     502.000000   \n",
      "50%        -5.000000    1496.000000     129.000000     872.000000   \n",
      "75%        14.000000    3465.000000     192.000000    1389.000000   \n",
      "max      1272.000000    8500.000000     695.000000    4983.000000   \n",
      "\n",
      "                hour         minute  \n",
      "count  336776.000000  336776.000000  \n",
      "mean       13.180247      26.230100  \n",
      "std         4.661316      19.300846  \n",
      "min         1.000000       0.000000  \n",
      "25%         9.000000       8.000000  \n",
      "50%        13.000000      29.000000  \n",
      "75%        17.000000      44.000000  \n",
      "max        23.000000      59.000000  \n"
     ]
    }
   ],
   "source": [
    "print(flidf.describe())"
   ]
  },
  {
   "cell_type": "markdown",
   "id": "6bb652bf",
   "metadata": {},
   "source": [
    "1. The \"id\" column contains the row number in the table. It does not provide any useful information for analyzing flight data.\n",
    "\n",
    "2. The \"year\" column has the same value for all rows, which is 2013. Therefore, it does not provide any useful information for analyzing flight data.\n",
    "\n",
    "3. The \"month\" column contains the month of the year. The average month is 6.54, indicating that the highest number of flights took place during the summer months. Also, less than 25% of the data occurred in the first three months of the year (winter season) and more than 75% of the data occurred in the last three months of the year (autumn season). This information can be used to examine flight patterns during different seasons of the year.\n",
    "\n",
    "4. The \"day\" column contains the day of the month. The average day is 6.55, indicating that more flights took place in the early days of the month. This information can also be used to examine flight patterns throughout the month.\n",
    "\n",
    "5. The \"dep_time\" column contains the departure time from the origin. The average departure time is 15:71, indicating that the highest number of flights took place in the afternoon and evening hours. This information can be used as a factor that affects flight delays.\n",
    "\n",
    "6. The \"sched_dep_time\" column contains the scheduled departure time from the origin. This column can also be used as a factor that affects flight delays.\n",
    "\n",
    "7. The \"dep_delay\" column contains the delay in departure from the origin. The average delay is 12.63 minutes, indicating that the highest number of flights departed with a delay time between 0 and 15 minutes. This information can be used as a factor that affects flight delays.\n",
    "\n",
    "8. The \"arr_time\" column contains the arrival time at the destination. The average arrival time is 15:56, indicating that the highest number of flights arrived at their destination in the afternoon and evening hours.\n",
    "\n",
    "9. The \"sched_arr_time\" column contains the scheduled arrival time at the destination. This column can also be used as a factor that affects flight delays.\n",
    "\n",
    "10. The \"arr_delay\" column contains the delay in arrival at the destination. The average delay is 6.9 minutes, indicating that the highest number of flights arrived at their destination with a delay time of less than 15 minutes. This information can be used as a factor that affects flight delays.\n",
    "\n",
    "11. The \"carrier\" column contains the airline carrier identifier. This column can be used to examine the performance of different airline carriers.\n",
    "\n",
    "12. The \"flight\" column contains the flight number. This column can also be used to examine the performance of different airline carriers.\n",
    "\n",
    "13. The \"tailnum\" column contains the aircraft registration number. This information can be used to examine the performance of different aircraft.\n",
    "\n",
    "14. The \"origin\" column contains the origin airport. This column can also be used to examine the performance of different airports in providing flight services.\n",
    "\n",
    "15. The \"dest\" column contains the destination airport. This column can also be used to examine the performance of different airports in providing flight services.\n",
    "\n",
    "16. The \"distance\" column contains the flight distance. The average distance is 1039.91 miles, indicating that the highest number of flights took place at shorter distances.\n",
    "\n",
    "17. The \"time_hour\" column contains the date and time of departure. This column can also be used to examine flight patterns throughout the day and week."
   ]
  },
  {
   "cell_type": "code",
   "execution_count": 43,
   "id": "413a5f9a",
   "metadata": {},
   "outputs": [
    {
     "name": "stdout",
     "output_type": "stream",
     "text": [
      "Month Counts:\n",
      "month\n",
      "7     29425\n",
      "8     29327\n",
      "10    28889\n",
      "3     28834\n",
      "5     28796\n",
      "4     28330\n",
      "6     28243\n",
      "12    28135\n",
      "9     27574\n",
      "11    27268\n",
      "1     27004\n",
      "2     24951\n",
      "Name: count, dtype: int64\n",
      "\n",
      "Average Departure Delay by Month:\n",
      "month\n",
      "1     10.036665\n",
      "2     10.816843\n",
      "3     13.227076\n",
      "4     13.938038\n",
      "5     12.986859\n",
      "6     20.846332\n",
      "7     21.727787\n",
      "8     12.611040\n",
      "9      6.722476\n",
      "10     6.243988\n",
      "11     5.435362\n",
      "12    16.576688\n",
      "Name: dep_delay, dtype: float64\n",
      "\n",
      "Average Arrival Delay by Month:\n",
      "month\n",
      "1      6.129972\n",
      "2      5.613019\n",
      "3      5.807577\n",
      "4     11.176063\n",
      "5      3.521509\n",
      "6     16.481330\n",
      "7     16.711307\n",
      "8      6.040652\n",
      "9     -4.018364\n",
      "10    -0.167063\n",
      "11     0.461347\n",
      "12    14.870355\n",
      "Name: arr_delay, dtype: float64\n",
      "\n",
      "Day Counts:\n",
      "day\n",
      "18    11399\n",
      "11    11359\n",
      "22    11345\n",
      "15    11317\n",
      "8     11271\n",
      "10    11227\n",
      "17    11222\n",
      "3     11211\n",
      "21    11141\n",
      "20    11111\n",
      "13    11108\n",
      "25    11097\n",
      "19    11086\n",
      "27    11084\n",
      "6     11059\n",
      "4     11059\n",
      "24    11041\n",
      "1     11036\n",
      "12    11029\n",
      "14    11008\n",
      "7     10985\n",
      "23    10966\n",
      "16    10918\n",
      "26    10883\n",
      "5     10858\n",
      "9     10857\n",
      "2     10808\n",
      "28    10773\n",
      "30    10289\n",
      "29    10039\n",
      "31     6190\n",
      "Name: count, dtype: int64\n",
      "\n",
      "Average Departure Delay by Day:\n",
      "day\n",
      "1     14.172660\n",
      "2     14.115552\n",
      "3     10.811295\n",
      "4      5.789651\n",
      "5      7.820824\n",
      "6      6.990244\n",
      "7     14.339177\n",
      "8     21.760773\n",
      "9     14.644680\n",
      "10    18.300505\n",
      "11    15.791213\n",
      "12    15.177765\n",
      "13    13.562241\n",
      "14     9.009513\n",
      "15     6.890470\n",
      "16     8.745689\n",
      "17    13.526196\n",
      "18    14.857999\n",
      "19    15.210662\n",
      "20     8.558674\n",
      "21     9.116976\n",
      "22    18.712073\n",
      "23    17.397555\n",
      "24    15.259026\n",
      "25    14.763037\n",
      "26     9.748002\n",
      "27    12.083969\n",
      "28    15.743213\n",
      "29     8.460618\n",
      "30    10.008758\n",
      "31     9.506521\n",
      "Name: dep_delay, dtype: float64\n",
      "\n",
      "Average Arrival Delay by Day:\n",
      "day\n",
      "1      7.363696\n",
      "2      6.768054\n",
      "3      4.469919\n",
      "4     -1.782720\n",
      "5      0.492506\n",
      "6     -1.748904\n",
      "7      9.557723\n",
      "8     19.072177\n",
      "9      8.947512\n",
      "10    14.736009\n",
      "11    10.518073\n",
      "12    11.138973\n",
      "13     9.339157\n",
      "14     3.185473\n",
      "15    -1.348341\n",
      "16     3.729968\n",
      "17    10.078916\n",
      "18    10.107717\n",
      "19    10.192674\n",
      "20     1.381356\n",
      "21     2.779069\n",
      "22    17.404916\n",
      "23    16.740462\n",
      "24    10.478447\n",
      "25     9.761430\n",
      "26     3.656098\n",
      "27     3.331213\n",
      "28     8.183567\n",
      "29    -0.132311\n",
      "30     0.707373\n",
      "31     3.359225\n",
      "Name: arr_delay, dtype: float64\n",
      "\n",
      "Hour Counts:\n",
      "hour\n",
      "8     27242\n",
      "6     25951\n",
      "17    24426\n",
      "15    23888\n",
      "16    23002\n",
      "7     22821\n",
      "18    21783\n",
      "14    21706\n",
      "19    21441\n",
      "9     20312\n",
      "13    19956\n",
      "12    18181\n",
      "20    16739\n",
      "10    16708\n",
      "11    16033\n",
      "21    10933\n",
      "22     2639\n",
      "5      1953\n",
      "23     1061\n",
      "1         1\n",
      "Name: count, dtype: int64\n",
      "\n",
      "Average Departure Delay by Hour:\n",
      "hour\n",
      "1           NaN\n",
      "5      0.687757\n",
      "6      1.642796\n",
      "7      1.914078\n",
      "8      4.127948\n",
      "9      4.583738\n",
      "10     6.498295\n",
      "11     7.191650\n",
      "12     8.614849\n",
      "13    11.437650\n",
      "14    13.818874\n",
      "15    16.894565\n",
      "16    18.757017\n",
      "17    21.100606\n",
      "18    21.110082\n",
      "19    24.784791\n",
      "20    24.304105\n",
      "21    24.195743\n",
      "22    18.791097\n",
      "23    14.017176\n",
      "Name: dep_delay, dtype: float64\n",
      "\n",
      "Average Arrival Delay by Hour:\n",
      "hour\n",
      "1           NaN\n",
      "5     -4.796907\n",
      "6     -3.384485\n",
      "7     -5.304472\n",
      "8     -1.113227\n",
      "9     -1.451407\n",
      "10     0.953940\n",
      "11     1.481930\n",
      "12     3.489010\n",
      "13     6.544740\n",
      "14     9.197650\n",
      "15    12.324192\n",
      "16    12.597641\n",
      "17    16.040267\n",
      "18    14.788724\n",
      "19    16.655874\n",
      "20    16.676110\n",
      "21    18.386937\n",
      "22    15.967162\n",
      "23    11.755278\n",
      "Name: arr_delay, dtype: float64\n"
     ]
    }
   ],
   "source": [
    "# Calculate the number of flights that took place in each month\n",
    "month_counts = flidf['month'].value_counts()\n",
    "\n",
    "# Calculate the average departure delay (in minutes) for each month\n",
    "avg_dep_delay_by_month = flidf.groupby('month')['dep_delay'].mean()\n",
    "\n",
    "# Calculate the average arrival delay (in minutes) for each month\n",
    "avg_arr_delay_by_month = flidf.groupby('month')['arr_delay'].mean()\n",
    "\n",
    "# Calculate the number of flights that took place on each day of the month\n",
    "day_counts = flidf['day'].value_counts()\n",
    "\n",
    "# Calculate the average departure delay (in minutes) for each day of the month\n",
    "avg_dep_delay_by_day = flidf.groupby('day')['dep_delay'].mean()\n",
    "\n",
    "# Calculate the average arrival delay (in minutes) for each day of the month\n",
    "avg_arr_delay_by_day = flidf.groupby('day')['arr_delay'].mean()\n",
    "\n",
    "# Calculate the number of flights that took place in each hour of the day\n",
    "hour_counts = flidf['hour'].value_counts()\n",
    "\n",
    "# Calculate the average departure delay (in minutes) for each hour of the day\n",
    "avg_dep_delay_by_hour = flidf.groupby('hour')['dep_delay'].mean()\n",
    "\n",
    "# Calculate the average arrival delay (in minutes) for each hour of the day\n",
    "avg_arr_delay_by_hour = flidf.groupby('hour')['arr_delay'].mean()\n",
    "\n",
    "# Print the results\n",
    "print(\"Month Counts:\")\n",
    "print(month_counts)\n",
    "print(\"\\nAverage Departure Delay by Month:\")\n",
    "print(avg_dep_delay_by_month)\n",
    "print(\"\\nAverage Arrival Delay by Month:\")\n",
    "print(avg_arr_delay_by_month)\n",
    "print(\"\\nDay Counts:\")\n",
    "print(day_counts)\n",
    "print(\"\\nAverage Departure Delay by Day:\")\n",
    "print(avg_dep_delay_by_day)\n",
    "print(\"\\nAverage Arrival Delay by Day:\")\n",
    "print(avg_arr_delay_by_day)\n",
    "print(\"\\nHour Counts:\")\n",
    "print(hour_counts)\n",
    "print(\"\\nAverage Departure Delay by Hour:\")\n",
    "print(avg_dep_delay_by_hour)\n",
    "print(\"\\nAverage Arrival Delay by Hour:\")\n",
    "print(avg_arr_delay_by_hour)"
   ]
  },
  {
   "cell_type": "markdown",
   "id": "9490b3bf",
   "metadata": {},
   "source": [
    "The data presented is related to flight delays and counts by month, day, and hour. Here is a brief analysis of the data:\n",
    "\n",
    "- Month Counts: The data shows the number of flights that took off in each month, with July and August having the highest numbers. However, there isn't much difference between the months, with the lowest count being in February.\n",
    "- Average Departure Delay by Month: This data shows the average departure delay for each month. The months of June and July have the highest average delay times, while September and October have the lowest. This could be due to weather conditions or other factors that impact flights during different months.\n",
    "- Average Arrival Delay by Month: This data shows the average arrival delay for each month. April and December have the highest average delays, while May and September have the lowest. This could be due to the same factors that impact the departure delays.\n",
    "- Day Counts: The data shows the number of flights that took off on each day of the month. The 18th and 11th of the month had the highest number of flights, while the 31st had the lowest.\n",
    "- Average Departure Delay by Day: This data shows the average departure delay for each day of the month. The 8th of the month has the highest average delay time, while the 10th has the second-highest. The 9th has the lowest average delay time. This could be due to the fact that the 8th and 10th are typically busy travel days, while the 9th is not.\n",
    "- Average Arrival Delay by Day: This data shows the average arrival delay for each day of the month. The 22nd and 23rd of the month have the highest average delay times, while the 5th and 29th have the lowest. This could be due to the same factors that impact the departure delays.\n",
    "- Hour Counts: The data shows the number of flights that took off during each hour of the day. The highest number of flights took off at 8 am, followed by 6 am and 5 pm.\n",
    "- Average Departure Delay by Hour: This data shows the average departure delay for each hour of the day. The highest average delay time is at 7 pm and 8 pm, while the lowest is at 5 am. This could be due to the fact that there are fewer flights in the early morning, while the evening rush hour can cause congestion and delays.\n",
    "- Average Arrival Delay by Hour: This data shows the average arrival delay for each hour of the day. The highest average delay time is at 7 pm, while the lowest is at 5 am. This could be due to the same factors that impact the departure delays.\n",
    "\n",
    "Overall, the data suggests that flight delays are influenced by a variety of factors, including the month, day, and hour of the flight. Some days and times have higher delays than others, which could be due to factors such as weather, congestion, or scheduling."
   ]
  },
  {
   "cell_type": "code",
   "execution_count": 44,
   "id": "c05fa2a0",
   "metadata": {},
   "outputs": [
    {
     "name": "stdout",
     "output_type": "stream",
     "text": [
      "Average Departure Delay: 12.639070257304708\n",
      "Average Arrival Delay: 6.89537675731489\n",
      "Average Air Time: 150.68646019807787\n",
      "Average Distance: 1039.9126036297123\n"
     ]
    }
   ],
   "source": [
    "# Calculate the average departure delay (in minutes)\n",
    "avg_dep_delay = flidf['dep_delay'].mean()\n",
    "\n",
    "# Calculate the average arrival delay (in minutes)\n",
    "avg_arr_delay = flidf['arr_delay'].mean()\n",
    "\n",
    "# Calculate the average air time (in minutes)\n",
    "avg_air_time = flidf['air_time'].mean()\n",
    "\n",
    "# Calculate the average distance (in miles)\n",
    "avg_distance = flidf['distance'].mean()\n",
    "\n",
    "# Print the results\n",
    "print(\"Average Departure Delay:\", avg_dep_delay)\n",
    "print(\"Average Arrival Delay:\", avg_arr_delay)\n",
    "print(\"Average Air Time:\", avg_air_time)\n",
    "print(\"Average Distance:\", avg_distance)"
   ]
  },
  {
   "cell_type": "markdown",
   "id": "c48c863d",
   "metadata": {},
   "source": [
    "In this analysis, four different averages have been calculated for flight data. The first average is the average delay in the departure of airplanes, which is equal to 12.6 minutes. The second average is the average delay in the arrival of airplanes at their destination, which is equal to 6.9 minutes. The third average is the duration of flights in the air, which is equal to 150.7 minutes or about 2.5 hours. The fourth average is the average distance of flights, which is equal to 1039.9 miles. These analyses can be used as a primary metric for examining the performance of an airline, evaluating air traffic conditions, and analyzing trends in the airline industry."
   ]
  },
  {
   "cell_type": "code",
   "execution_count": 45,
   "id": "e5057bd2",
   "metadata": {},
   "outputs": [
    {
     "name": "stdout",
     "output_type": "stream",
     "text": [
      "Carrier Counts:\n",
      "name\n",
      "United Air Lines Inc.          58665\n",
      "JetBlue Airways                54635\n",
      "ExpressJet Airlines Inc.       54173\n",
      "Delta Air Lines Inc.           48110\n",
      "American Airlines Inc.         32729\n",
      "Envoy Air                      26397\n",
      "US Airways Inc.                20536\n",
      "Endeavor Air Inc.              18460\n",
      "Southwest Airlines Co.         12275\n",
      "Virgin America                  5162\n",
      "AirTran Airways Corporation     3260\n",
      "Alaska Airlines Inc.             714\n",
      "Frontier Airlines Inc.           685\n",
      "Mesa Airlines Inc.               601\n",
      "Hawaiian Airlines Inc.           342\n",
      "SkyWest Airlines Inc.             32\n",
      "Name: count, dtype: int64\n",
      "\n",
      "Average Departure Delay by Carrier:\n",
      "name\n",
      "AirTran Airways Corporation    18.726075\n",
      "Alaska Airlines Inc.            5.804775\n",
      "American Airlines Inc.          8.586016\n",
      "Delta Air Lines Inc.            9.264505\n",
      "Endeavor Air Inc.              16.725769\n",
      "Envoy Air                      10.552041\n",
      "ExpressJet Airlines Inc.       19.955390\n",
      "Frontier Airlines Inc.         20.215543\n",
      "Hawaiian Airlines Inc.          4.900585\n",
      "JetBlue Airways                13.022522\n",
      "Mesa Airlines Inc.             18.996330\n",
      "SkyWest Airlines Inc.          12.586207\n",
      "Southwest Airlines Co.         17.711744\n",
      "US Airways Inc.                 3.782418\n",
      "United Air Lines Inc.          12.106073\n",
      "Virgin America                 12.869421\n",
      "Name: dep_delay, dtype: float64\n",
      "\n",
      "Average Arrival Delay by Carrier:\n",
      "name\n",
      "AirTran Airways Corporation    20.115906\n",
      "Alaska Airlines Inc.           -9.930889\n",
      "American Airlines Inc.          0.364291\n",
      "Delta Air Lines Inc.            1.644341\n",
      "Endeavor Air Inc.               7.379669\n",
      "Envoy Air                      10.774733\n",
      "ExpressJet Airlines Inc.       15.796431\n",
      "Frontier Airlines Inc.         21.920705\n",
      "Hawaiian Airlines Inc.         -6.915205\n",
      "JetBlue Airways                 9.457973\n",
      "Mesa Airlines Inc.             15.556985\n",
      "SkyWest Airlines Inc.          11.931034\n",
      "Southwest Airlines Co.          9.649120\n",
      "US Airways Inc.                 2.129595\n",
      "United Air Lines Inc.           3.558011\n",
      "Virgin America                  1.764464\n",
      "Name: arr_delay, dtype: float64\n"
     ]
    }
   ],
   "source": [
    "# Calculate the number of flights that each airline carrier has operated\n",
    "carrier_counts = flidf['name'].value_counts()\n",
    "\n",
    "# Calculate the average departure delay (in minutes) for each airline carrier\n",
    "avg_dep_delay_by_carrier = flidf.groupby('name')['dep_delay'].mean()\n",
    "\n",
    "# Calculate the average arrival delay (in minutes) for each airline carrier\n",
    "avg_arr_delay_by_carrier = flidf.groupby('name')['arr_delay'].mean()\n",
    "\n",
    "# Print the results\n",
    "print(\"Carrier Counts:\")\n",
    "print(carrier_counts)\n",
    "print(\"\\nAverage Departure Delay by Carrier:\")\n",
    "print(avg_dep_delay_by_carrier)\n",
    "print(\"\\nAverage Arrival Delay by Carrier:\")\n",
    "print(avg_arr_delay_by_carrier)"
   ]
  },
  {
   "cell_type": "markdown",
   "id": "47c6c0d5",
   "metadata": {},
   "source": [
    "These data include the number of flights and the average delay in departure and arrival based on various airlines. In the first table, the number of flights is shown for each airline. In the second and third tables, the average delay time in departure and arrival of airplanes is also calculated for each airline.\n",
    "\n",
    "According to the first table, United Air Lines Inc. has the highest number of flights with 58665 flights, while Hawaiian Airlines Inc. has the lowest number of flights with 342 flights.\n",
    "\n",
    "In the second table, AirTran Airways Corporation has the highest delay time in departure with an average delay of 18.7 minutes, while US Airways Inc. has the lowest delay time in departure with an average delay of 3.8 minutes.\n",
    "\n",
    "In the third table, Frontier Airlines Inc. has the highest delay time in arrival with an average delay of 21.9 minutes, while Alaska Airlines Inc. has the lowest delay time in arrival with a negative average delay of 9.9 minutes, indicating that this airline usually arrives at its destination on time and sometimes even before the scheduled time.\n",
    "\n",
    "These data can be used to examine the quality of services provided by each airline and can be used as an important criterion in decisions related to choosing an airline for travel."
   ]
  },
  {
   "cell_type": "code",
   "execution_count": 46,
   "id": "548b71f2",
   "metadata": {},
   "outputs": [
    {
     "name": "stdout",
     "output_type": "stream",
     "text": [
      "Month Counts:\n",
      "month\n",
      "7     29425\n",
      "8     29327\n",
      "10    28889\n",
      "3     28834\n",
      "5     28796\n",
      "4     28330\n",
      "6     28243\n",
      "12    28135\n",
      "9     27574\n",
      "11    27268\n",
      "1     27004\n",
      "2     24951\n",
      "Name: count, dtype: int64\n",
      "\n",
      "Variance of Departure Delay by Month:\n",
      "month\n",
      "1     1324.254867\n",
      "2     1315.262876\n",
      "3     1610.494552\n",
      "4     1846.099555\n",
      "5     1548.645584\n",
      "6     2647.816616\n",
      "7     2664.219255\n",
      "8     1418.797110\n",
      "9     1268.413852\n",
      "10     880.413419\n",
      "11     761.117622\n",
      "12    1753.666829\n",
      "Name: dep_delay, dtype: float64\n",
      "\n",
      "Variance of Arrival Delay by Month:\n",
      "month\n",
      "1     1634.091490\n",
      "2     1562.511697\n",
      "3     1946.503060\n",
      "4     2255.409446\n",
      "5     1956.966366\n",
      "6     3150.674127\n",
      "7     3262.361797\n",
      "8     1814.346148\n",
      "9     1576.908619\n",
      "10    1066.013218\n",
      "11     985.169242\n",
      "12    2128.263846\n",
      "Name: arr_delay, dtype: float64\n",
      "\n",
      "Day Counts:\n",
      "day\n",
      "18    11399\n",
      "11    11359\n",
      "22    11345\n",
      "15    11317\n",
      "8     11271\n",
      "10    11227\n",
      "17    11222\n",
      "3     11211\n",
      "21    11141\n",
      "20    11111\n",
      "13    11108\n",
      "25    11097\n",
      "19    11086\n",
      "27    11084\n",
      "6     11059\n",
      "4     11059\n",
      "24    11041\n",
      "1     11036\n",
      "12    11029\n",
      "14    11008\n",
      "7     10985\n",
      "23    10966\n",
      "16    10918\n",
      "26    10883\n",
      "5     10858\n",
      "9     10857\n",
      "2     10808\n",
      "28    10773\n",
      "30    10289\n",
      "29    10039\n",
      "31     6190\n",
      "Name: count, dtype: int64\n",
      "\n",
      "Variance of Departure Delay by Day:\n",
      "day\n",
      "1     1750.989094\n",
      "2     1930.051059\n",
      "3     1357.237696\n",
      "4      742.198005\n",
      "5     1405.790581\n",
      "6      887.761009\n",
      "7     1886.213094\n",
      "8     2811.762264\n",
      "9     1655.117134\n",
      "10    2685.585584\n",
      "11    1773.697666\n",
      "12    1926.315871\n",
      "13    1524.595983\n",
      "14    1157.341033\n",
      "15     889.518519\n",
      "16    1102.596145\n",
      "17    1684.276445\n",
      "18    1874.256529\n",
      "19    1964.667220\n",
      "20     998.444418\n",
      "21    1033.168496\n",
      "22    2202.857942\n",
      "23    2097.257820\n",
      "24    1911.240770\n",
      "25    1732.980054\n",
      "26    1045.135079\n",
      "27    1798.222069\n",
      "28    2238.191825\n",
      "29     987.504208\n",
      "30    1366.250744\n",
      "31    1081.094451\n",
      "Name: dep_delay, dtype: float64\n",
      "\n",
      "Variance of Arrival Delay by Day:\n",
      "day\n",
      "1     2127.536365\n",
      "2     2215.041796\n",
      "3     1563.048648\n",
      "4      966.073264\n",
      "5     1642.569349\n",
      "6     1128.277769\n",
      "7     2339.203901\n",
      "8     3338.211730\n",
      "9     2143.992455\n",
      "10    3332.790003\n",
      "11    2021.389015\n",
      "12    2320.907733\n",
      "13    2047.166925\n",
      "14    1546.498720\n",
      "15    1111.768683\n",
      "16    1358.991220\n",
      "17    2118.190031\n",
      "18    2352.095224\n",
      "19    2349.935214\n",
      "20    1249.089495\n",
      "21    1199.853509\n",
      "22    2728.480784\n",
      "23    2483.302377\n",
      "24    2260.874885\n",
      "25    2131.646478\n",
      "26    1354.670866\n",
      "27    2215.737761\n",
      "28    2689.464616\n",
      "29    1222.505941\n",
      "30    1704.841022\n",
      "31    1361.938022\n",
      "Name: arr_delay, dtype: float64\n",
      "\n",
      "Hour Counts:\n",
      "hour\n",
      "8     27242\n",
      "6     25951\n",
      "17    24426\n",
      "15    23888\n",
      "16    23002\n",
      "7     22821\n",
      "18    21783\n",
      "14    21706\n",
      "19    21441\n",
      "9     20312\n",
      "13    19956\n",
      "12    18181\n",
      "20    16739\n",
      "10    16708\n",
      "11    16033\n",
      "21    10933\n",
      "22     2639\n",
      "5      1953\n",
      "23     1061\n",
      "1         1\n",
      "Name: count, dtype: int64\n",
      "\n",
      "Variance of Departure Delay by Hour:\n",
      "hour\n",
      "1             NaN\n",
      "5      252.061487\n",
      "6      555.596279\n",
      "7      548.993904\n",
      "8      856.900790\n",
      "9      919.895222\n",
      "10    1132.782996\n",
      "11    1044.173995\n",
      "12    1108.476144\n",
      "13    1297.774856\n",
      "14    1655.457187\n",
      "15    1832.664681\n",
      "16    2201.831349\n",
      "17    2494.130463\n",
      "18    2432.017424\n",
      "19    2790.522661\n",
      "20    2354.601528\n",
      "21    2179.623945\n",
      "22    1650.503608\n",
      "23    1238.643449\n",
      "Name: dep_delay, dtype: float64\n",
      "\n",
      "Variance of Arrival Delay by Hour:\n",
      "hour\n",
      "1             NaN\n",
      "5      494.540475\n",
      "6      798.609848\n",
      "7      851.547989\n",
      "8     1143.242519\n",
      "9     1209.374094\n",
      "10    1439.077480\n",
      "11    1356.878578\n",
      "12    1412.947408\n",
      "13    1700.423278\n",
      "14    2175.379752\n",
      "15    2369.040383\n",
      "16    2784.222876\n",
      "17    3085.397643\n",
      "18    2901.558607\n",
      "19    3147.539281\n",
      "20    2649.918127\n",
      "21    2349.414729\n",
      "22    1717.208933\n",
      "23    1312.079343\n",
      "Name: arr_delay, dtype: float64\n"
     ]
    }
   ],
   "source": [
    "# Calculate the number of flights that took place in each month\n",
    "month_counts = flidf['month'].value_counts()\n",
    "\n",
    "# Calculate the variance of departure delay (in minutes) for each month\n",
    "var_dep_delay_by_month = flidf.groupby('month')['dep_delay'].var()\n",
    "\n",
    "# Calculate the variance of arrival delay (in minutes) for each month\n",
    "var_arr_delay_by_month = flidf.groupby('month')['arr_delay'].var()\n",
    "\n",
    "# Calculate the number of flights that took place on each day of the month\n",
    "day_counts = flidf['day'].value_counts()\n",
    "\n",
    "# Calculate the variance of departure delay (in minutes) for each day of the month\n",
    "var_dep_delay_by_day = flidf.groupby('day')['dep_delay'].var()\n",
    "\n",
    "# Calculate the variance of arrival delay (in minutes) for each day of the month\n",
    "var_arr_delay_by_day = flidf.groupby('day')['arr_delay'].var()\n",
    "\n",
    "# Calculate the number of flights that took place in each hour of the day\n",
    "hour_counts = flidf['hour'].value_counts()\n",
    "\n",
    "# Calculate the variance of departure delay (in minutes) for each hour of the day\n",
    "var_dep_delay_by_hour = flidf.groupby('hour')['dep_delay'].var()\n",
    "\n",
    "# Calculate the variance of arrival delay (in minutes) for each hour of the day\n",
    "var_arr_delay_by_hour = flidf.groupby('hour')['arr_delay'].var()\n",
    "\n",
    "# Print the results\n",
    "print(\"Month Counts:\")\n",
    "print(month_counts)\n",
    "print(\"\\nVariance of Departure Delay by Month:\")\n",
    "print(var_dep_delay_by_month)\n",
    "print(\"\\nVariance of Arrival Delay by Month:\")\n",
    "print(var_arr_delay_by_month)\n",
    "print(\"\\nDay Counts:\")\n",
    "print(day_counts)\n",
    "print(\"\\nVariance of Departure Delay by Day:\")\n",
    "print(var_dep_delay_by_day)\n",
    "print(\"\\nVariance of Arrival Delay by Day:\")\n",
    "print(var_arr_delay_by_day)\n",
    "print(\"\\nHour Counts:\")\n",
    "print(hour_counts)\n",
    "print(\"\\nVariance of Departure Delay by Hour:\")\n",
    "print(var_dep_delay_by_hour)\n",
    "print(\"\\nVariance of Arrival Delay by Hour:\")\n",
    "print(var_arr_delay_by_hour)"
   ]
  },
  {
   "cell_type": "markdown",
   "id": "0d30bed7",
   "metadata": {},
   "source": [
    "These results indicate that flight delays and arrivals vary across different months, days, and hours, and that there is a different variance for each of these categories. For example, the months of July and June have the highest variance, meaning that delays in these months are very diverse and scattered, while October and November have less variance and delays are more uniform. Similarly, there are differences in variance for delays on different days of the week and at different times of day. "
   ]
  },
  {
   "cell_type": "code",
   "execution_count": 47,
   "id": "f6e9b6c2",
   "metadata": {},
   "outputs": [
    {
     "name": "stdout",
     "output_type": "stream",
     "text": [
      "Variance of Departure Delay: 1616.8489969469451\n",
      "Variance of Arrival Delay: 1992.130727102053\n",
      "Variance of Air Time: 8777.498429877467\n",
      "Variance of Distance: 537630.6811568184\n"
     ]
    }
   ],
   "source": [
    "#Calculate the variance of departure delay (in minutes)\n",
    "var_dep_delay = flidf['dep_delay'].var()\n",
    "\n",
    "#Calculate the variance of arrival delay (in minutes)\n",
    "var_arr_delay = flidf['arr_delay'].var()\n",
    "\n",
    "#Calculate the variance of air time (in minutes)\n",
    "var_air_time = flidf['air_time'].var()\n",
    "\n",
    "#Calculate the variance of distance (in miles)\n",
    "var_distance = flidf['distance'].var()\n",
    "\n",
    "#Print the results\n",
    "print(\"Variance of Departure Delay:\", var_dep_delay)\n",
    "print(\"Variance of Arrival Delay:\", var_arr_delay)\n",
    "print(\"Variance of Air Time:\", var_air_time)\n",
    "print(\"Variance of Distance:\", var_distance)"
   ]
  },
  {
   "cell_type": "markdown",
   "id": "776130b4",
   "metadata": {},
   "source": [
    "The results indicate that the variances of departure delay, arrival delay, air time, and distance in the dataset are 1616.85, 1992.13, 8777.50, and 537630.68, respectively. Variance measures the spread of data, in other words, it shows how much the data is scattered within itself. Here, the variances of departure delay and arrival delay are lower than the variances of air time and distance, indicating that on average, the departure and arrival delays are less scattered in the dataset. On the other hand, the variance of distance is very large, indicating that the distances are highly scattered."
   ]
  },
  {
   "cell_type": "code",
   "execution_count": 48,
   "id": "c03723ab",
   "metadata": {},
   "outputs": [
    {
     "name": "stdout",
     "output_type": "stream",
     "text": [
      "Standard Deviation of Year: 0.0\n",
      "Standard Deviation of Month: 3.4144572446783465\n",
      "Standard Deviation of Day: 8.768607101536459\n",
      "Standard Deviation of Departure Time: 488.28179100115256\n",
      "Standard Deviation of Scheduled Departure Time: 467.3357557343495\n",
      "Standard Deviation of Departure Delay: 40.2100608921069\n",
      "Standard Deviation of Arrival Time: 533.264131990379\n",
      "Standard Deviation of Scheduled Arrival Time: 497.457141514415\n",
      "Standard Deviation of Arrival Delay: 44.63329169019526\n",
      "Standard Deviation of Flight Number: 1632.4719381394038\n",
      "Standard Deviation of Air Time: 93.68830465899929\n",
      "Standard Deviation of Distance: 733.2330333235255\n",
      "Standard Deviation of Hour: 4.6613157078473195\n",
      "Standard Deviation of Minute: 19.300845657434813\n"
     ]
    }
   ],
   "source": [
    "# Calculate the standard deviation of each column\n",
    "year_std = flidf['year'].std()\n",
    "month_std = flights_df['month'].std()\n",
    "day_std = flidf['day'].std()\n",
    "dep_time_std = flidf['dep_time'].std()\n",
    "sched_dep_time_std = flidf['sched_dep_time'].std()\n",
    "dep_delay_std = flidf['dep_delay'].std()\n",
    "arr_time_std = flidf['arr_time'].std()\n",
    "sched_arr_time_std = flidf['sched_arr_time'].std()\n",
    "arr_delay_std = flidf['arr_delay'].std()\n",
    "flight_std = flidf['flight'].std()\n",
    "air_time_std = flidf['air_time'].std()\n",
    "distance_std = flidf['distance'].std()\n",
    "hour_std = flidf['hour'].std()\n",
    "minute_std = flidf['minute'].std()\n",
    "\n",
    "print(\"Standard Deviation of Year:\", year_std)\n",
    "print(\"Standard Deviation of Month:\", month_std)\n",
    "print(\"Standard Deviation of Day:\", day_std)\n",
    "print(\"Standard Deviation of Departure Time:\", dep_time_std)\n",
    "print(\"Standard Deviation of Scheduled Departure Time:\", sched_dep_time_std)\n",
    "print(\"Standard Deviation of Departure Delay:\", dep_delay_std)\n",
    "print(\"Standard Deviation of Arrival Time:\", arr_time_std)\n",
    "print(\"Standard Deviation of Scheduled Arrival Time:\", sched_arr_time_std)\n",
    "print(\"Standard Deviation of Arrival Delay:\", arr_delay_std)\n",
    "print(\"Standard Deviation of Flight Number:\", flight_std)\n",
    "print(\"Standard Deviation of Air Time:\", air_time_std)\n",
    "print(\"Standard Deviation of Distance:\", distance_std)\n",
    "print(\"Standard Deviation of Hour:\", hour_std)\n",
    "print(\"Standard Deviation of Minute:\", minute_std)"
   ]
  },
  {
   "cell_type": "markdown",
   "id": "f4d6caaf",
   "metadata": {},
   "source": [
    "A detailed analysis of these results is as follows:\n",
    "\n",
    "- The standard deviation of the year column is equal to 0.0. This means that all the data in the year column is equal to its mean and has little variability.\n",
    "\n",
    "- The standard deviation of the month column is 3.41. This indicates that the mean of the month column is 6.5, and the data deviates from its mean by 3.41.\n",
    "\n",
    "- The standard deviation of the day column is 8.76. This shows that the data in the day column deviates from its mean by 8.76.\n",
    "\n",
    "- The standard deviation of the dep_time column is 488.28. This shows that the data in the dep_time column deviates from its mean by 488.28 minutes.\n",
    "\n",
    "- The standard deviation of the sched_dep_time column is 467.33. This shows that the data in the sched_dep_time column deviates from its mean by 467.33 minutes.\n",
    "\n",
    "- The standard deviation of the dep_delay column is 40.210. This shows that the data in the dep_delay column deviates from its mean by 40.210 minutes.\n",
    "\n",
    "- The standard deviation of the arr_time column is 533.26. This shows that the data in the arr_time column deviates from its mean by 533.26 minutes.\n",
    "\n",
    "- The standard deviation of the sched_arr_time column is 497.45. This shows that the data in the sched_arr_time column deviates from its mean by 497.45 minutes.\n",
    "\n",
    "- The standard deviation of the arr_delay column is 44.63. This shows that the data in the arr_delay column deviates from its mean by 44.63 minutes.\n",
    "\n",
    "- The standard deviation of the flight column is 1632.47. This shows that the data in the flight column deviates from its mean by 1632.47.\n",
    "\n",
    "- The standard deviation of the air_time column is 93.68. This shows that the data in the air_time column deviates from its mean by 93.68 minutes.\n",
    "\n",
    "- The standard deviation of the distance column is 733.23. This shows that the data in the distance column deviates from its mean by 733.233.\n",
    "\n",
    "- The standard deviation of the hour column is 4.6. This shows that the data in the hour column deviates from its mean by 4.6.\n",
    "\n",
    "- The standard deviation of the minute column is 19.30. This shows that the data in the minute column deviates from its mean by 19.30 minutes.\n",
    "\n",
    "Overall, the results show that data related to departure and arrival time, delays, flight number, and flight time (such as dep_time, sched_dep_time, dep_delay, arr_time, sched_arr_time, arr_delay, flight, air_time, hour, and minute) have more variability than data related to the flight date and distance (such as year, month, day, and distance).\n",
    "\n",
    "In general, the standard deviation can be a useful measure of variability to understand the spread of data and compare different data sets."
   ]
  },
  {
   "cell_type": "code",
   "execution_count": 63,
   "id": "7c4a0eb8",
   "metadata": {},
   "outputs": [
    {
     "data": {
      "image/png": "[encoded data removed]",
      "text/plain": [
       "<Figure size 640x480 with 1 Axes>"
      ]
     },
     "metadata": {},
     "output_type": "display_data"
    },
    {
     "data": {
      "image/png": "[encoded data removed]",
      "text/plain": [
       "<Figure size 640x480 with 1 Axes>"
      ]
     },
     "metadata": {},
     "output_type": "display_data"
    },
    {
     "data": {
      "image/png": "[encoded data removed]",
      "text/plain": [
       "<Figure size 640x480 with 1 Axes>"
      ]
     },
     "metadata": {},
     "output_type": "display_data"
    },
    {
     "data": {
      "image/png": "[encoded data removed]",
      "text/plain": [
       "<Figure size 640x480 with 1 Axes>"
      ]
     },
     "metadata": {},
     "output_type": "display_data"
    },
    {
     "data": {
      "image/png": "[encoded data removed]",
      "text/plain": [
       "<Figure size 640x480 with 1 Axes>"
      ]
     },
     "metadata": {},
     "output_type": "display_data"
    },
    {
     "data": {
      "image/png": "[encoded data removed]",
      "text/plain": [
       "<Figure size 640x480 with 1 Axes>"
      ]
     },
     "metadata": {},
     "output_type": "display_data"
    },
    {
     "data": {
      "image/png": "[encoded data removed]",
      "text/plain": [
       "<Figure size 640x480 with 1 Axes>"
      ]
     },
     "metadata": {},
     "output_type": "display_data"
    },
    {
     "data": {
      "image/png": "[encoded data removed]",
      "text/plain": [
       "<Figure size 640x480 with 1 Axes>"
      ]
     },
     "metadata": {},
     "output_type": "display_data"
    },
    {
     "data": {
      "image/png": "[encoded data removed]",
      "text/plain": [
       "<Figure size 640x480 with 1 Axes>"
      ]
     },
     "metadata": {},
     "output_type": "display_data"
    },
    {
     "data": {
      "image/png": "[encoded data removed]",
      "text/plain": [
       "<Figure size 640x480 with 1 Axes>"
      ]
     },
     "metadata": {},
     "output_type": "display_data"
    },
    {
     "data": {
      "image/png": "[encoded data removed]",
      "text/plain": [
       "<Figure size 640x480 with 1 Axes>"
      ]
     },
     "metadata": {},
     "output_type": "display_data"
    }
   ],
   "source": [
    "for column in flights_df.select_dtypes(include=['integer', 'float']):\n",
    "    if column not in ['id', 'year','month','day']:\n",
    "        flights_df[column].plot(kind='hist', title=column, bins=100)\n",
    "        plt.show()"
   ]
  },
  {
   "cell_type": "code",
   "execution_count": 69,
   "id": "40970f0a",
   "metadata": {},
   "outputs": [
    {
     "name": "stdout",
     "output_type": "stream",
     "text": [
      "the kurtosis of dep_time -1.0883199913974155\n"
     ]
    }
   ],
   "source": [
    "kortosis_dep_time=flidf['dep_time'].kurtosis()\n",
    "print(\"the kurtosis of dep_time\",kortosis_dep_time)"
   ]
  },
  {
   "cell_type": "markdown",
   "id": "ac07591b",
   "metadata": {},
   "source": [
    "The kurtosis value of -1.0883 for the dep_time column indicates that the distribution of the data in this column has a shorter tail compared to a normal distribution, meaning that the data in this column are less spread out and have fewer extreme values. This value suggests that most of the data in the dep_time column are clustered around the mean, and there are fewer data points that are far away from the mean compared to a normal distribution. Therefore, this kurtosis value can help us better understand the distribution of the data in the dep_time column and how far they deviate from the mean. Additionally, comparing the kurtosis value of the dep_time column with other columns in the dataset can help us understand the differences in the distribution of the data between different columns."
   ]
  },
  {
   "cell_type": "code",
   "execution_count": 73,
   "id": "ad13a84c",
   "metadata": {},
   "outputs": [
    {
     "name": "stdout",
     "output_type": "stream",
     "text": [
      "the skewness of dep_time -0.024743453027545905\n"
     ]
    }
   ],
   "source": [
    "skew_dep_time=flidf['dep_time'].skew()\n",
    "print(\"the skewness of dep_time\",skew_dep_time)"
   ]
  },
  {
   "cell_type": "markdown",
   "id": "ec7a19cb",
   "metadata": {},
   "source": [
    "The skewness value of -0.0247 for the dep_time column indicates that the distribution of the data in this column is slightly skewed to the left compared to a normal distribution. In other words, the data in this column are slightly more concentrated towards smaller values than towards larger values. "
   ]
  },
  {
   "cell_type": "code",
   "execution_count": 71,
   "id": "d351eba4",
   "metadata": {},
   "outputs": [
    {
     "name": "stdout",
     "output_type": "stream",
     "text": [
      "the kurtosis of sched_dep_time -1.1979030992530513\n"
     ]
    }
   ],
   "source": [
    "kortosis_sched_dep_time=flidf['sched_dep_time'].kurtosis()\n",
    "print(\"the kurtosis of sched_dep_time\",kortosis_sched_dep_time)"
   ]
  },
  {
   "cell_type": "markdown",
   "id": "31d820a0",
   "metadata": {},
   "source": [
    "This result indicates that the distribution of scheduled departure time (sched_dep_time) in the dataset is more spread out and has wider tails compared to a normal distribution. The negative value of kurtosis suggests that the distribution of scheduled departure time is flatter and more dispersed than a normal distribution, indicating that some values are located in the tails of the distribution. This result suggests that the distribution of scheduled departure time is more dispersed than a normal distribution."
   ]
  },
  {
   "cell_type": "code",
   "execution_count": 72,
   "id": "179571f3",
   "metadata": {},
   "outputs": [
    {
     "name": "stdout",
     "output_type": "stream",
     "text": [
      "the skewness of sched_dep_time -0.005858082889925038\n"
     ]
    }
   ],
   "source": [
    "skew_sched_dep_time=flidf['sched_dep_time'].skew()\n",
    "print(\"the skewness of sched_dep_time\",skew_sched_dep_time)"
   ]
  },
  {
   "cell_type": "markdown",
   "id": "ebf010d1",
   "metadata": {},
   "source": [
    "This result indicates that the distribution of scheduled departure time (sched_dep_time) in the dataset is relatively symmetric and almost normally distributed. The skewness value being very close to zero suggests that the distribution of scheduled departure time is almost symmetrical and has very little skewness, indicating that the distribution is almost symmetrical compared to a normal distribution. In other words, the mean of scheduled departure time is almost at the center of the distribution, and the distribution of data on both sides of the mean is almost equal. However, it's important to note that skewness is just one of the measures used to describe the distribution of data, and final conclusions should be drawn based on other measures such as kurtosis, mean, and variance."
   ]
  },
  {
   "cell_type": "code",
   "execution_count": 74,
   "id": "c24f8275",
   "metadata": {},
   "outputs": [
    {
     "name": "stdout",
     "output_type": "stream",
     "text": [
      "the kurtosis of dep_delay 43.95011602901041\n"
     ]
    }
   ],
   "source": [
    "kortosis_dep_delay=flidf['dep_delay'].kurtosis()\n",
    "print(\"the kurtosis of dep_delay\",kortosis_dep_delay)"
   ]
  },
  {
   "cell_type": "markdown",
   "id": "6c2666fb",
   "metadata": {},
   "source": [
    "This result indicates that the distribution of departure delay (dep_delay) in the dataset is highly peaked and has heavy tails compared to a normal distribution. The positive value of kurtosis suggests that the distribution of departure delay is more peaked and has heavier tails than a normal distribution, indicating that there are more outliers in the tails of the distribution. This result suggests that the distribution of departure delay is more dispersed and has more extreme values than a normal distribution."
   ]
  },
  {
   "cell_type": "code",
   "execution_count": 75,
   "id": "13aeb847",
   "metadata": {},
   "outputs": [
    {
     "name": "stdout",
     "output_type": "stream",
     "text": [
      "the skewness of dep_delay 4.802540511080034\n"
     ]
    }
   ],
   "source": [
    "skew_dep_delay=flidf['dep_delay'].skew()\n",
    "print(\"the skewness of dep_delay\",skew_dep_delay)"
   ]
  },
  {
   "cell_type": "markdown",
   "id": "3995dca2",
   "metadata": {},
   "source": [
    "This result indicates that the distribution of departure delay (dep_delay) in the dataset is highly skewed to the right and has a long tail of positive values compared to a normal distribution. The positive value of skewness suggests that the distribution of departure delay is highly skewed to the right, indicating that the majority of the values are concentrated on the left side of the mean, while there are a few extreme values on the right side of the distribution. This result suggests that the distribution of departure delay is more dispersed and has more extreme positive values than a normal distribution."
   ]
  },
  {
   "cell_type": "code",
   "execution_count": 76,
   "id": "3ea59b81",
   "metadata": {},
   "outputs": [
    {
     "name": "stdout",
     "output_type": "stream",
     "text": [
      "the kurtosis of arr_time -0.19263438394923016\n"
     ]
    }
   ],
   "source": [
    "kortosis_arr_time=flidf['arr_time'].kurtosis()\n",
    "print(\"the kurtosis of arr_time\",kortosis_arr_time)"
   ]
  },
  {
   "cell_type": "markdown",
   "id": "7186dacb",
   "metadata": {},
   "source": [
    "This result indicates that the distribution of arrival time (arr_time) in the dataset is flatter and has thinner tails compared to a normal distribution. The negative value of kurtosis suggests that the distribution of arrival time is flatter and less peaked than a normal distribution, indicating that there are fewer outliers in the tails of the distribution. This result suggests that the distribution of arrival time is more concentrated around the mean and has fewer extreme values than a normal distribution."
   ]
  },
  {
   "cell_type": "code",
   "execution_count": 78,
   "id": "68ebc3c3",
   "metadata": {},
   "outputs": [
    {
     "name": "stdout",
     "output_type": "stream",
     "text": [
      "the skewness of arr_time -0.4678190641515941\n"
     ]
    }
   ],
   "source": [
    "skew_arr_time=flidf['arr_time'].skew()\n",
    "print(\"the skewness of arr_time\",skew_arr_time)"
   ]
  },
  {
   "cell_type": "markdown",
   "id": "44873667",
   "metadata": {},
   "source": [
    "This result indicates that the distribution of arrival time (arr_time) in the dataset is slightly skewed to the left and has a long tail of negative values compared to a normal distribution. The negative value of skewness suggests that the distribution of arrival time is slightly skewed to the left, indicating that the majority of the values are concentrated on the right side of the mean, while there are a few extreme negative values on the left side of the distribution. This result suggests that the distribution of arrival time is more dispersed and has more extreme negative values than a normal distribution."
   ]
  },
  {
   "cell_type": "code",
   "execution_count": 79,
   "id": "980987d4",
   "metadata": {},
   "outputs": [
    {
     "name": "stdout",
     "output_type": "stream",
     "text": [
      "the kurtosis of sched_arr_time -0.3822477902236434\n"
     ]
    }
   ],
   "source": [
    "kortosis_sched_arr_time=flidf['sched_arr_time'].kurtosis()\n",
    "print(\"the kurtosis of sched_arr_time\",kortosis_sched_arr_time)"
   ]
  },
  {
   "cell_type": "markdown",
   "id": "f351efd7",
   "metadata": {},
   "source": [
    "This result indicates that the distribution of scheduled arrival time (sched_arr_time) in the dataset is flatter and has thinner tails compared to a normal distribution. The negative value of kurtosis suggests that the distribution of scheduled arrival time is flatter and less peaked than a normal distribution, indicating that there are fewer outliers in the tails of the distribution. This result suggests that the distribution of scheduled arrival time is more concentrated around the mean and has fewer extreme values than a normal distribution. However, it's important to note that kurtosis is just one of the measures used to describe the distribution of data, and final conclusions should be drawn based on other measures such as mean and variance."
   ]
  },
  {
   "cell_type": "code",
   "execution_count": 80,
   "id": "c1d1f733",
   "metadata": {},
   "outputs": [
    {
     "name": "stdout",
     "output_type": "stream",
     "text": [
      "the skewness of sched_arr_time -0.35313806953431953\n"
     ]
    }
   ],
   "source": [
    "skew_sched_arr_time=flidf['sched_arr_time'].skew()\n",
    "print(\"the skewness of sched_arr_time\",skew_sched_arr_time)"
   ]
  },
  {
   "cell_type": "markdown",
   "id": "bbb0b356",
   "metadata": {},
   "source": [
    "This result indicates that the distribution of scheduled arrival time (sched_arr_time) in the dataset is slightly skewed to the left and has a long tail of negative values compared to a normal distribution. The negative value of skewness suggests that the distribution of scheduled arrival time is slightly skewed to the left, indicating that the majority of the values are concentrated on the right side of the mean, while there are a few extreme negative values on the left side of the distribution. This result suggests that the distribution of scheduled arrival time is more dispersed and has more extreme negative values than a normal distribution."
   ]
  },
  {
   "cell_type": "code",
   "execution_count": 81,
   "id": "695fe825",
   "metadata": {},
   "outputs": [
    {
     "name": "stdout",
     "output_type": "stream",
     "text": [
      "the kurtosis of arr_delay 29.233043998766775\n"
     ]
    }
   ],
   "source": [
    "kortosis_arr_delay=flidf['arr_delay'].kurtosis()\n",
    "print(\"the kurtosis of arr_delay\",kortosis_arr_delay)"
   ]
  },
  {
   "cell_type": "markdown",
   "id": "1bc75c83",
   "metadata": {},
   "source": [
    "This result indicates that the distribution of arrival delay (arr_delay) in the dataset is highly peaked and has heavy tails compared to a normal distribution. The positive value of kurtosis suggests that the distribution of arrival delay is more peaked and has heavier tails than a normal distribution, indicating that there are more outliers in the tails of the distribution. This result suggests that the distribution of arrival delay is more dispersed and has more extreme values than a normal distribution."
   ]
  },
  {
   "cell_type": "code",
   "execution_count": 83,
   "id": "37b6e813",
   "metadata": {},
   "outputs": [
    {
     "name": "stdout",
     "output_type": "stream",
     "text": [
      "the skewness of arr_delay 3.7168174804571863\n"
     ]
    }
   ],
   "source": [
    "skew_arr_delay=flidf['arr_delay'].skew()\n",
    "print(\"the skewness of arr_delay\",skew_arr_delay)"
   ]
  },
  {
   "cell_type": "markdown",
   "id": "029d9c56",
   "metadata": {},
   "source": [
    "This result indicates that the distribution of arrival delay (arr_delay) in the dataset is highly skewed to the right and has a long tail of positive values compared to a normal distribution. The positive value of skewness suggests that the distribution of arrival delay is highly skewed to the right, indicating that the majority of the values are concentrated on the left side of the mean, while there are a few extreme positive values on the right side of the distribution. This result suggests that the distribution of arrival delay is more dispersed and has more extreme positive values than a normal distribution."
   ]
  },
  {
   "cell_type": "code",
   "execution_count": 86,
   "id": "1d07f858",
   "metadata": {},
   "outputs": [
    {
     "name": "stdout",
     "output_type": "stream",
     "text": [
      "                      id  year     month       day  dep_time  sched_dep_time  \\\n",
      "id              1.000000   NaN  0.071779  0.087852  0.002172        0.004076   \n",
      "year                 NaN   NaN       NaN       NaN       NaN             NaN   \n",
      "month           0.071779   NaN  1.000000  0.002942 -0.003932       -0.004573   \n",
      "day             0.087852   NaN  0.002942  1.000000 -0.000467       -0.000014   \n",
      "dep_time        0.002172   NaN -0.003932 -0.000467  1.000000        0.954617   \n",
      "sched_dep_time  0.004076   NaN -0.004573 -0.000014  0.954617        1.000000   \n",
      "dep_delay       0.049713   NaN -0.020057  0.000420  0.260231        0.198887   \n",
      "arr_time       -0.024680   NaN -0.002520 -0.005537  0.660779        0.642680   \n",
      "sched_arr_time -0.013373   NaN -0.004173 -0.002403  0.784682        0.783342   \n",
      "arr_delay       0.018613   NaN -0.017382 -0.000319  0.232306        0.173896   \n",
      "flight          0.002676   NaN -0.000834 -0.001791  0.041957        0.036495   \n",
      "air_time       -0.032866   NaN  0.010924  0.002236 -0.014619       -0.015532   \n",
      "distance        0.012526   NaN  0.021636  0.003041 -0.013998       -0.017995   \n",
      "hour            0.003150   NaN -0.005227 -0.000055  0.953306        0.999148   \n",
      "minute          0.022619   NaN  0.015528  0.000987  0.091577        0.082960   \n",
      "\n",
      "                dep_delay  arr_time  sched_arr_time  arr_delay    flight  \\\n",
      "id               0.049713 -0.024680       -0.013373   0.018613  0.002676   \n",
      "year                  NaN       NaN             NaN        NaN       NaN   \n",
      "month           -0.020057 -0.002520       -0.004173  -0.017382 -0.000834   \n",
      "day              0.000420 -0.005537       -0.002403  -0.000319 -0.001791   \n",
      "dep_time         0.260231  0.660779        0.784682   0.232306  0.041957   \n",
      "sched_dep_time   0.198887  0.642680        0.783342   0.173896  0.036495   \n",
      "dep_delay        1.000000  0.028729        0.160488   0.914803  0.054734   \n",
      "arr_time         0.028729  1.000000        0.788997   0.024482  0.025042   \n",
      "sched_arr_time   0.160488  0.788997        1.000000   0.133261  0.021594   \n",
      "arr_delay        0.914803  0.024482        0.133261   1.000000  0.072862   \n",
      "flight           0.054734  0.025042        0.021594   0.072862  1.000000   \n",
      "air_time        -0.022405  0.054296        0.078918  -0.035297 -0.472838   \n",
      "distance        -0.021671  0.046991        0.068726  -0.061868 -0.484165   \n",
      "hour             0.198226  0.642651        0.783283   0.173456  0.035838   \n",
      "minute           0.028441  0.040969        0.050321   0.021522  0.018137   \n",
      "\n",
      "                air_time  distance      hour    minute  \n",
      "id             -0.032866  0.012526  0.003150  0.022619  \n",
      "year                 NaN       NaN       NaN       NaN  \n",
      "month           0.010924  0.021636 -0.005227  0.015528  \n",
      "day             0.002236  0.003041 -0.000055  0.000987  \n",
      "dep_time       -0.014619 -0.013998  0.953306  0.091577  \n",
      "sched_dep_time -0.015532 -0.017995  0.999148  0.082960  \n",
      "dep_delay      -0.022405 -0.021671  0.198226  0.028441  \n",
      "arr_time        0.054296  0.046991  0.642651  0.040969  \n",
      "sched_arr_time  0.078918  0.068726  0.783283  0.050321  \n",
      "arr_delay      -0.035297 -0.061868  0.173456  0.021522  \n",
      "flight         -0.472838 -0.484165  0.035838  0.018137  \n",
      "air_time        1.000000  0.990650 -0.016277  0.017032  \n",
      "distance        0.990650  1.000000 -0.018860  0.019780  \n",
      "hour           -0.016277 -0.018860  1.000000  0.041768  \n",
      "minute          0.017032  0.019780  0.041768  1.000000  \n"
     ]
    }
   ],
   "source": [
    "corr_matrix = flidf.corr(numeric_only=True)\n",
    "print(corr_matrix)"
   ]
  },
  {
   "cell_type": "markdown",
   "id": "c6d9bef9",
   "metadata": {},
   "source": [
    "\n",
    "- id: This column represents the unique identifier of each row in the dataframe and has no direct relationship with other columns.\n",
    "- year: This column represents the year of the flights and has no direct correlation with other columns according to the correlation matrix.\n",
    "- month: This column represents the month of the flights and has no significant correlation with dep_delay and arr_delay. Furthermore, it has a weak positive correlation with air_time and distance.\n",
    "- day: This column represents the date of the flights and has no direct relationship with other columns.\n",
    "- dep_time and sched_dep_time: These columns represent the actual departure time and scheduled departure time of the flights, respectively. According to the correlation matrix, these two columns have a very high positive correlation, indicating that the departure time of the flights is highly predictable.\n",
    "- dep_delay and arr_delay: These columns represent the departure delay and arrival delay of the flights, respectively. According to the correlation matrix, these two columns have a very high positive correlation, indicating that the more the departure delay, the more the arrival delay.\n",
    "- arr_time and sched_arr_time: These columns represent the actual arrival time and scheduled arrival time of the flights, respectively. According to the correlation matrix, these two columns have a high positive correlation with each other.\n",
    "- arr_delay: This column represents the arrival delay of the flights and has a very high positive correlation with dep_delay, indicating that the departure delay causes the arrival delay of the flights.\n",
    "- flight: This column represents the flight number and has no direct relationship with other columns.\n",
    "- air_time and distance: These two columns represent the flight time and distance of the flights, respectively. According to the correlation matrix, these two columns have a very high positive correlation, indicating that the distance and flight time of the flights are related to each other.\n",
    "- carrier: This column represents the airline carriers of the flights and has no direct relationship with other columns.\n",
    "- tailnum: This column represents the tail numbers of the airplanes and has no direct relationship with other columns.\n",
    "- origin and dest: These two columns represent the origin and destination airports of the flights, respectively. According to the correlation matrix, these two columns have no direct relationship with other columns.\n",
    "- air_time_blocks: This column has a weak positive correlation with air_time and distance.\n",
    "- day_of_week: This column represents the day of the week of the flights and has no direct relationship with other columns.\n",
    "\n"
   ]
  },
  {
   "cell_type": "code",
   "execution_count": null,
   "id": "f74a46a5",
   "metadata": {},
   "outputs": [],
   "source": []
  }
 ],
 "metadata": {
  "kernelspec": {
   "display_name": "Python 3 (ipykernel)",
   "language": "python",
   "name": "python3"
  },
  "language_info": {
   "codemirror_mode": {
    "name": "ipython",
    "version": 3
   },
   "file_extension": ".py",
   "mimetype": "text/x-python",
   "name": "python",
   "nbconvert_exporter": "python",
   "pygments_lexer": "ipython3",
   "version": "3.10.9"
  }
 },
 "nbformat": 4,
 "nbformat_minor": 5
}
