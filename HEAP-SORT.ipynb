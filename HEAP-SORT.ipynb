{
 "cells": [
  {
   "cell_type": "markdown",
   "id": "07a04aca",
   "metadata": {},
   "source": [
    "HEAP SORT"
   ]
  },
  {
   "cell_type": "code",
   "execution_count": 19,
   "id": "ccf37ef5",
   "metadata": {},
   "outputs": [
    {
     "name": "stdout",
     "output_type": "stream",
     "text": [
      "[[ 1  2  2]\n",
      " [ 3  4  5]\n",
      " [ 5  6  7]\n",
      " [ 8  9 12]]\n"
     ]
    }
   ],
   "source": [
    "import numpy as np\n",
    "\n",
    "narr = np.array([[5, 2, 4], \n",
    "                [9, 6, 7], \n",
    "                [2, 3, 5], \n",
    "                [1, 12, 8]])\n",
    "\n",
    "sorted_narr= np.sort(narr.flatten(), kind='heapsort')  # Simultaneous sorting of rows and columns with QuickSort \n",
    "\n",
    "sorted_narr = sorted_narr.reshape(narr.shape)# Reconstruction of the sorted array in the original matrix form\n",
    "\n",
    "print(sorted_narr)"
   ]
  },
  {
   "cell_type": "code",
   "execution_count": 20,
   "id": "fe609ca7",
   "metadata": {},
   "outputs": [
    {
     "name": "stdout",
     "output_type": "stream",
     "text": [
      "[[ 1  2  4]\n",
      " [ 2  3  5]\n",
      " [ 5  6  7]\n",
      " [ 9 12  8]]\n"
     ]
    }
   ],
   "source": [
    "narr = np.array([[5, 2, 4], \n",
    "                [9, 6, 7], \n",
    "                [2, 3, 5], \n",
    "                [1, 12, 8]])\n",
    "sorted_narr = np.sort(narr , axis=0, kind='heapsort') #Sorted by rows\n",
    "\n",
    "print(sorted_narr)"
   ]
  },
  {
   "cell_type": "code",
   "execution_count": 21,
   "id": "9fe2e23d",
   "metadata": {},
   "outputs": [
    {
     "name": "stdout",
     "output_type": "stream",
     "text": [
      "[[ 2  4  5]\n",
      " [ 6  7  9]\n",
      " [ 2  3  5]\n",
      " [ 1  8 12]]\n"
     ]
    }
   ],
   "source": [
    "narr = np.array([[5, 2, 4], \n",
    "                [9, 6, 7], \n",
    "                [2, 3, 5], \n",
    "                [1, 12, 8]])\n",
    "sorted_narr = np.sort(narr , axis=1, kind='heapsort') #Sorted by columns\n",
    "\n",
    "\n",
    "print(sorted_narr)"
   ]
  },
  {
   "cell_type": "code",
   "execution_count": null,
   "id": "e1fe36ff",
   "metadata": {},
   "outputs": [],
   "source": []
  }
 ],
 "metadata": {
  "kernelspec": {
   "display_name": "Python 3 (ipykernel)",
   "language": "python",
   "name": "python3"
  },
  "language_info": {
   "codemirror_mode": {
    "name": "ipython",
    "version": 3
   },
   "file_extension": ".py",
   "mimetype": "text/x-python",
   "name": "python",
   "nbconvert_exporter": "python",
   "pygments_lexer": "ipython3",
   "version": "3.10.9"
  }
 },
 "nbformat": 4,
 "nbformat_minor": 5
}
