{
 "cells": [
  {
   "cell_type": "markdown",
   "id": "2dbb535d",
   "metadata": {},
   "source": [
    "MERGE SORT"
   ]
  },
  {
   "cell_type": "code",
   "execution_count": 5,
   "id": "3f164e94",
   "metadata": {},
   "outputs": [
    {
     "name": "stdout",
     "output_type": "stream",
     "text": [
      "[[ 1  2  2]\n",
      " [ 3  4  5]\n",
      " [ 5  6  7]\n",
      " [ 8  9 12]]\n"
     ]
    }
   ],
   "source": [
    "import numpy as np\n",
    "\n",
    "narr = np.array([[5, 2, 4], \n",
    "                [9, 6, 7], \n",
    "                [2, 3, 5], \n",
    "                [1, 12, 8]])\n",
    "\n",
    "sorted_narr= np.sort(narr.flatten(), kind='mergesort')  # Simultaneous sorting of rows and columns with QuickSort \n",
    "\n",
    "sorted_narr = sorted_narr.reshape(narr.shape)# Reconstruction of the sorted array in the original matrix form\n",
    "\n",
    "print(sorted_narr)"
   ]
  },
  {
   "cell_type": "code",
   "execution_count": 8,
   "id": "1c95717d",
   "metadata": {},
   "outputs": [
    {
     "name": "stdout",
     "output_type": "stream",
     "text": [
      "[[ 1  2  4]\n",
      " [ 2  3  5]\n",
      " [ 5  6  7]\n",
      " [ 9 12  8]]\n"
     ]
    }
   ],
   "source": [
    "narr = np.array([[5, 2, 4], \n",
    "                [9, 6, 7], \n",
    "                [2, 3, 5], \n",
    "                [1, 12, 8]])\n",
    "sorted_narr = np.sort(narr , axis=0, kind='mergesort') #Sorted by rows\n",
    "\n",
    "print(sorted_narr)"
   ]
  },
  {
   "cell_type": "code",
   "execution_count": 7,
   "id": "48ef127d",
   "metadata": {},
   "outputs": [
    {
     "name": "stdout",
     "output_type": "stream",
     "text": [
      "[[ 1  2  4]\n",
      " [ 2  3  5]\n",
      " [ 5  6  7]\n",
      " [ 9 12  8]]\n"
     ]
    }
   ],
   "source": [
    "narr = np.array([[5, 2, 4], \n",
    "                [9, 6, 7], \n",
    "                [2, 3, 5], \n",
    "                [1, 12, 8]])\n",
    "sorted_narr = np.sort(narr , axis=0, kind='mergesort') #Sorted by rows\n",
    "\n",
    "print(sorted_narr)"
   ]
  },
  {
   "cell_type": "code",
   "execution_count": null,
   "id": "d57515ed",
   "metadata": {},
   "outputs": [],
   "source": []
  }
 ],
 "metadata": {
  "kernelspec": {
   "display_name": "Python 3 (ipykernel)",
   "language": "python",
   "name": "python3"
  },
  "language_info": {
   "codemirror_mode": {
    "name": "ipython",
    "version": 3
   },
   "file_extension": ".py",
   "mimetype": "text/x-python",
   "name": "python",
   "nbconvert_exporter": "python",
   "pygments_lexer": "ipython3",
   "version": "3.10.9"
  }
 },
 "nbformat": 4,
 "nbformat_minor": 5
}
