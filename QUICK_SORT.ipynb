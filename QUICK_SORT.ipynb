{
 "cells": [
  {
   "cell_type": "markdown",
   "id": "d02c19d5",
   "metadata": {},
   "source": [
    "QUICK SORT"
   ]
  },
  {
   "cell_type": "code",
   "execution_count": 1,
   "id": "2dc49728",
   "metadata": {},
   "outputs": [],
   "source": [
    "import numpy as np"
   ]
  },
  {
   "cell_type": "code",
   "execution_count": 46,
   "id": "61a4ab91",
   "metadata": {},
   "outputs": [
    {
     "name": "stdout",
     "output_type": "stream",
     "text": [
      "[[ 1  2  4]\n",
      " [ 2  3  5]\n",
      " [ 5  6  7]\n",
      " [ 9 12  8]]\n"
     ]
    }
   ],
   "source": [
    "narr = np.array([[5, 2, 4], \n",
    "                [9, 6, 7], \n",
    "                [2, 3, 5], \n",
    "                [1, 12, 8]])\n",
    "sorted_narr = np.sort(narr , axis=0, kind='quicksort') #Sorted by rows\n",
    "\n",
    "print(sorted_narr)"
   ]
  },
  {
   "cell_type": "code",
   "execution_count": 41,
   "id": "87832265",
   "metadata": {},
   "outputs": [
    {
     "name": "stdout",
     "output_type": "stream",
     "text": [
      "[[ 2  4  5]\n",
      " [ 6  7  9]\n",
      " [ 2  3  5]\n",
      " [ 1  8 12]]\n"
     ]
    }
   ],
   "source": [
    "narr = np.array([[5, 2, 4], \n",
    "                [9, 6, 7], \n",
    "                [2, 3, 5], \n",
    "                [1, 12, 8]])\n",
    "sorted_narr = np.sort(narr , axis=1, kind='quicksort') #Sorted by columns\n",
    "\n",
    "\n",
    "print(sorted_narr)"
   ]
  },
  {
   "cell_type": "code",
   "execution_count": 48,
   "id": "396802ae",
   "metadata": {},
   "outputs": [
    {
     "name": "stdout",
     "output_type": "stream",
     "text": [
      "[[ 1  2  2]\n",
      " [ 3  4  5]\n",
      " [ 5  6  7]\n",
      " [ 8  9 12]]\n"
     ]
    }
   ],
   "source": [
    "\n",
    "\n",
    "narr = np.array([[5, 2, 4], \n",
    "                [9, 6, 7], \n",
    "                [2, 3, 5], \n",
    "                [1, 12, 8]])\n",
    "\n",
    "sorted_narr= np.sort(narr.flatten(), kind='quicksort')  # Simultaneous sorting of rows and columns with QuickSort \n",
    "\n",
    "sorted_narr = sorted_narr.reshape(narr.shape)# Reconstruction of the sorted array in the original matrix form\n",
    "\n",
    "print(sorted_narr)"
   ]
  },
  {
   "cell_type": "markdown",
   "id": "e89baf4c",
   "metadata": {},
   "source": [
    "toye code bala man aval az axis= none estefade kardam ke betonam hamzam ham be sorat satri va ham be sorat sotoni sort konam vali \n",
    "didam ke matrix tabdil mishe be yek array yek bodi baraye hamin az func flatten va reshape estefade kardam ta matrix bad az sort shodan reshape beshe."
   ]
  },
  {
   "cell_type": "code",
   "execution_count": null,
   "id": "dfcb4fd8",
   "metadata": {},
   "outputs": [],
   "source": []
  }
 ],
 "metadata": {
  "kernelspec": {
   "display_name": "Python 3 (ipykernel)",
   "language": "python",
   "name": "python3"
  },
  "language_info": {
   "codemirror_mode": {
    "name": "ipython",
    "version": 3
   },
   "file_extension": ".py",
   "mimetype": "text/x-python",
   "name": "python",
   "nbconvert_exporter": "python",
   "pygments_lexer": "ipython3",
   "version": "3.10.9"
  }
 },
 "nbformat": 4,
 "nbformat_minor": 5
}
